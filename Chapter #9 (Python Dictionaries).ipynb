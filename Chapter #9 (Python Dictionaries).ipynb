{
 "cells": [
  {
   "cell_type": "markdown",
   "id": "905f4fd4",
   "metadata": {},
   "source": [
    "# Dictionaries"
   ]
  },
  {
   "cell_type": "code",
   "execution_count": 1,
   "id": "cf2dbe40",
   "metadata": {},
   "outputs": [
    {
     "name": "stdout",
     "output_type": "stream",
     "text": [
      "{'money': 12, 'candy': 3, 'tissues': 75}\n",
      "3\n",
      "{'money': 12, 'candy': 5, 'tissues': 75}\n"
     ]
    }
   ],
   "source": [
    "# Create an empty dictionary 'purse' to store items and their quantities\n",
    "purse = dict()\n",
    "\n",
    "# Add an item 'money' with a quantity of 12 to the 'purse' dictionary\n",
    "purse['money'] = 12\n",
    "\n",
    "# Add an item 'candy' with a quantity of 3 to the 'purse' dictionary\n",
    "purse['candy'] = 3\n",
    "\n",
    "# Add an item 'tissues' with a quantity of 75 to the 'purse' dictionary\n",
    "purse['tissues'] = 75\n",
    "\n",
    "# Print the 'purse' dictionary, which now contains items and their quantities\n",
    "print(purse)\n",
    "# Output: {'money': 12, 'tissues': 75, 'candy': 3}\n",
    "\n",
    "# Print the quantity of 'candy' in the 'purse' dictionary\n",
    "print(purse['candy'])\n",
    "# Output: 3\n",
    "\n",
    "# Increase the quantity of 'candy' in the 'purse' dictionary by 2\n",
    "# This updates the existing value for 'candy'\n",
    "purse['candy'] = purse['candy'] + 2\n",
    "\n",
    "# Print the updated 'purse' dictionary with the increased 'candy' quantity\n",
    "print(purse)\n",
    "# Output: {'money': 12, 'tissues': 75, 'candy': 5}\n"
   ]
  },
  {
   "cell_type": "markdown",
   "id": "40a508e5",
   "metadata": {},
   "source": [
    "# Comparing Lists and Dictionaries"
   ]
  },
  {
   "cell_type": "code",
   "execution_count": 2,
   "id": "995c7bff",
   "metadata": {},
   "outputs": [
    {
     "name": "stdout",
     "output_type": "stream",
     "text": [
      "[21, 183]\n",
      "[23, 183]\n",
      "{'age': 21, 'course': 182}\n",
      "{'age': 23, 'course': 182}\n"
     ]
    }
   ],
   "source": [
    "# Operations on a List (lst)\n",
    "lst = list()  # Create an empty list\n",
    "\n",
    "lst.append(21)  # Append the value 21 to the list\n",
    "lst.append(183)  # Append the value 183 to the list\n",
    "\n",
    "print(lst)  # Print the list\n",
    "# Output: [21, 183]\n",
    "\n",
    "lst[0] = 23  # Update the value at index 0 to 23\n",
    "\n",
    "print(lst)  # Print the updated list\n",
    "# Output: [23, 183]\n",
    "\n",
    "# Operations on a Dictionary (ddd)\n",
    "ddd = dict()  # Create an empty dictionary\n",
    "\n",
    "ddd['age'] = 21  # Add a key 'age' with the value 21 to the dictionary\n",
    "ddd['course'] = 182  # Add a key 'course' with the value 182 to the dictionary\n",
    "\n",
    "print(ddd)  # Print the dictionary\n",
    "# Output: {'age': 21, 'course': 182}\n",
    "\n",
    "ddd['age'] = 23  # Update the value associated with the key 'age' to 23\n",
    "\n",
    "print(ddd)  # Print the updated dictionary\n",
    "# Output: {'age': 23, 'course': 182}\n"
   ]
  },
  {
   "cell_type": "markdown",
   "id": "8ee5689c",
   "metadata": {},
   "source": [
    "# Dictionary Literals (Constants)"
   ]
  },
  {
   "cell_type": "code",
   "execution_count": 3,
   "id": "27da7c6b",
   "metadata": {},
   "outputs": [
    {
     "name": "stdout",
     "output_type": "stream",
     "text": [
      "{'chuck': 1, 'fred': 42, 'jan': 100}\n",
      "{}\n"
     ]
    }
   ],
   "source": [
    "# Create a dictionary 'jjj' with key-value pairs\n",
    "jjj = {'chuck': 1, 'fred': 42, 'jan': 100}\n",
    "\n",
    "# Print the 'jjj' dictionary\n",
    "print(jjj)\n",
    "# Output: {'jan': 100, 'chuck': 1, 'fred': 42}\n",
    "\n",
    "# Create an empty dictionary 'ooo'\n",
    "ooo = {}\n",
    "\n",
    "# Print the empty 'ooo' dictionary\n",
    "print(ooo)\n",
    "# Output: {}\n"
   ]
  },
  {
   "cell_type": "markdown",
   "id": "126acfab",
   "metadata": {},
   "source": [
    "#  Many Counters with a Dictionary"
   ]
  },
  {
   "cell_type": "code",
   "execution_count": 4,
   "id": "4fc368b6",
   "metadata": {},
   "outputs": [
    {
     "name": "stdout",
     "output_type": "stream",
     "text": [
      "{'csev': 1, 'cwen': 1}\n",
      "{'csev': 1, 'cwen': 2}\n"
     ]
    }
   ],
   "source": [
    "# Create an empty dictionary 'ccc'\n",
    "ccc = dict()\n",
    "\n",
    "# Add a key 'csev' with the value 1 to the 'ccc' dictionary\n",
    "ccc['csev'] = 1\n",
    "\n",
    "# Add a key 'cwen' with the value 1 to the 'ccc' dictionary\n",
    "ccc['cwen'] = 1\n",
    "\n",
    "# Print the 'ccc' dictionary, showing the key-value pairs\n",
    "print(ccc)\n",
    "# Output: {'csev': 1, 'cwen': 1}\n",
    "\n",
    "# Increment the value associated with the key 'cwen' by 1\n",
    "ccc['cwen'] = ccc['cwen'] + 1\n",
    "\n",
    "# Print the updated 'ccc' dictionary after modifying the value for 'cwen'\n",
    "print(ccc)\n",
    "# Output: {'csev': 1, 'cwen': 2}\n"
   ]
  },
  {
   "cell_type": "markdown",
   "id": "c2aad05c",
   "metadata": {},
   "source": [
    "# New Nmae"
   ]
  },
  {
   "cell_type": "code",
   "execution_count": 5,
   "id": "90c41575",
   "metadata": {},
   "outputs": [
    {
     "name": "stdout",
     "output_type": "stream",
     "text": [
      "{'csev': 2, 'cwen': 2, 'zqian': 1}\n"
     ]
    }
   ],
   "source": [
    "# Create an empty dictionary 'counts' to store name counts\n",
    "counts = dict()\n",
    "\n",
    "# Create a list 'names' containing names\n",
    "names = ['csev', 'cwen', 'csev', 'zqian', 'cwen']\n",
    "\n",
    "# Iterate through each name in the 'names' list\n",
    "for name in names:\n",
    "    # Check if the name is not already in the 'counts' dictionary\n",
    "    if name not in counts:\n",
    "        # If not, add the name as a key to 'counts' with an initial count of 1\n",
    "        counts[name] = 1\n",
    "    else:\n",
    "        # If the name is already in 'counts', increment its count by 1\n",
    "        counts[name] = counts[name] + 1\n",
    "\n",
    "# Print the 'counts' dictionary, which shows the count of each name\n",
    "print(counts)\n"
   ]
  },
  {
   "cell_type": "markdown",
   "id": "bab329a3",
   "metadata": {},
   "source": [
    "#  Get Method Dictionaries"
   ]
  },
  {
   "cell_type": "code",
   "execution_count": 7,
   "id": "e1d43f48",
   "metadata": {},
   "outputs": [],
   "source": [
    "# Check if the 'name' is in the 'counts' dictionary\n",
    "if name in counts:\n",
    "    # If 'name' is present, assign its count to 'x'\n",
    "    x = counts[name]\n",
    "else:\n",
    "    # If 'name' is not present, assign '0' to 'x'\n",
    "    x = 0\n",
    "# Use the 'get()' method to retrieve the count of 'name' from 'counts'\n",
    "# If 'name' is not present, default to '0'\n",
    "x = counts.get(name, 0)\n"
   ]
  },
  {
   "cell_type": "code",
   "execution_count": 8,
   "id": "bc615499",
   "metadata": {},
   "outputs": [
    {
     "name": "stdout",
     "output_type": "stream",
     "text": [
      "{'csev': 2, 'cwen': 2, 'zqian': 1}\n"
     ]
    }
   ],
   "source": [
    "# Create an empty dictionary 'counts' to store name counts\n",
    "counts = dict()\n",
    "\n",
    "# Create a list 'names' containing names\n",
    "names = ['csev', 'cwen', 'csev', 'zqian', 'cwen']\n",
    "\n",
    "# Iterate through each name in the 'names' list\n",
    "for name in names:\n",
    "    # Use the 'get()' method to retrieve the current count for 'name' from 'counts'\n",
    "    # If 'name' is not present, it defaults to 0\n",
    "    x = counts.get(name, 0)\n",
    "    \n",
    "    # Increment the count for 'name' by 1\n",
    "    x += 1\n",
    "    \n",
    "    # Update the 'counts' dictionary with the new count for 'name'\n",
    "    counts[name] = x\n",
    "\n",
    "# Print the 'counts' dictionary, which shows the count of each name\n",
    "print(counts)\n"
   ]
  },
  {
   "cell_type": "markdown",
   "id": "0bb5521f",
   "metadata": {},
   "source": [
    "# Simplified Counting with get()\n"
   ]
  },
  {
   "cell_type": "code",
   "execution_count": 9,
   "id": "42306af9",
   "metadata": {},
   "outputs": [
    {
     "name": "stdout",
     "output_type": "stream",
     "text": [
      "{'csev': 2, 'cwen': 2, 'zqian': 1}\n"
     ]
    }
   ],
   "source": [
    "# Create an empty dictionary 'counts' to store name counts\n",
    "counts = dict()\n",
    "\n",
    "# Create a list 'names' containing names\n",
    "names = ['csev', 'cwen', 'csev', 'zqian', 'cwen']\n",
    "\n",
    "# Iterate through each name in the 'names' list\n",
    "for name in names:\n",
    "    # Use the 'get()' method to retrieve the current count for 'name' from 'counts'\n",
    "    # If 'name' is not present, it defaults to 0; then add 1 to it\n",
    "    counts[name] = counts.get(name, 0) + 1\n",
    "\n",
    "# Print the 'counts' dictionary, which shows the count of each name\n",
    "print(counts)\n"
   ]
  },
  {
   "cell_type": "markdown",
   "id": "4107d85d",
   "metadata": {},
   "source": [
    "# Counting Pattern"
   ]
  },
  {
   "cell_type": "code",
   "execution_count": 12,
   "id": "822b230e",
   "metadata": {},
   "outputs": [
    {
     "name": "stdout",
     "output_type": "stream",
     "text": [
      "enter text:\n",
      "The general pattern to count the  words in a line of text is to split the line into words, then loop  through the words and use a  dictionary to track the count of  each word independently.\n",
      "Words: ['The', 'general', 'pattern', 'to', 'count', 'the', 'words', 'in', 'a', 'line', 'of', 'text', 'is', 'to', 'split', 'the', 'line', 'into', 'words,', 'then', 'loop', 'through', 'the', 'words', 'and', 'use', 'a', 'dictionary', 'to', 'track', 'the', 'count', 'of', 'each', 'word', 'independently.']\n",
      "Counting...\n",
      "Counts: {'The': 1, 'general': 1, 'pattern': 1, 'to': 3, 'count': 2, 'the': 4, 'words': 2, 'in': 1, 'a': 2, 'line': 2, 'of': 2, 'text': 1, 'is': 1, 'split': 1, 'into': 1, 'words,': 1, 'then': 1, 'loop': 1, 'through': 1, 'and': 1, 'use': 1, 'dictionary': 1, 'track': 1, 'each': 1, 'word': 1, 'independently.': 1}\n"
     ]
    }
   ],
   "source": [
    "# Create an empty dictionary 'counts' to store word counts\n",
    "counts = dict()\n",
    "\n",
    "# Prompt the user to enter a line of text\n",
    "print('enter text:')\n",
    "line = input('')  # Read the user's input and store it in the 'line' variable\n",
    "\n",
    "# Split the input line into words and store them in a list called 'words'\n",
    "words = line.split()\n",
    "\n",
    "# Print the list of words to show the split result\n",
    "print('Words:', words)\n",
    "\n",
    "# Print a message indicating that word counting is in progress\n",
    "print('Counting...')\n",
    "\n",
    "# Iterate through each word in the 'words' list\n",
    "for word in words:\n",
    "    # Use the 'get()' method to retrieve the current count for 'word' from 'counts'\n",
    "    # If 'word' is not present, it defaults to 0; then add 1 to it\n",
    "    counts[word] = counts.get(word, 0) + 1\n",
    "\n",
    "# Print the 'counts' dictionary, which shows the count of each word\n",
    "print('Counts:', counts)\n"
   ]
  },
  {
   "cell_type": "markdown",
   "id": "0862aec2",
   "metadata": {},
   "source": [
    "# Loops and Dictionaries"
   ]
  },
  {
   "cell_type": "code",
   "execution_count": null,
   "id": "4b3c6074",
   "metadata": {},
   "outputs": [],
   "source": [
    "# Create a dictionary 'counts' with key-value pairs\n",
    "counts = {'chuck': 1, 'fred': 42, 'jan': 100}\n",
    "\n",
    "# Iterate through each key in the 'counts' dictionary using a for loop\n",
    "for key in counts:\n",
    "    # Print the key and its corresponding value in the dictionary\n",
    "    print(key, counts[key])\n"
   ]
  },
  {
   "cell_type": "markdown",
   "id": "112719f0",
   "metadata": {},
   "source": [
    "# Retrieving Lists of Keys and Values"
   ]
  },
  {
   "cell_type": "code",
   "execution_count": 13,
   "id": "e9274bb1",
   "metadata": {},
   "outputs": [
    {
     "name": "stdout",
     "output_type": "stream",
     "text": [
      "['chuck', 'fred', 'jan']\n",
      "dict_keys(['chuck', 'fred', 'jan'])\n",
      "dict_values([1, 42, 100])\n",
      "dict_items([('chuck', 1), ('fred', 42), ('jan', 100)])\n"
     ]
    }
   ],
   "source": [
    "# Create a dictionary 'jjj' with key-value pairs\n",
    "jjj = {'chuck': 1, 'fred': 42, 'jan': 100}\n",
    "\n",
    "# Print the keys of the dictionary 'jjj' using 'list(jjj)'\n",
    "# This converts the keys into a list and prints them\n",
    "print(list(jjj))\n",
    "# Output: ['jan', 'chuck', 'fred']\n",
    "\n",
    "# Print the keys of the dictionary 'jjj' using 'jjj.keys()'\n",
    "# This method returns a view of the keys and prints them\n",
    "print(jjj.keys())\n",
    "# Output: ['jan', 'chuck', 'fred']\n",
    "\n",
    "# Print the values of the dictionary 'jjj' using 'jjj.values()'\n",
    "# This method returns a view of the values and prints them\n",
    "print(jjj.values())\n",
    "# Output: [100, 1, 42]\n",
    "\n",
    "# Print the key-value pairs (items) of the dictionary 'jjj' using 'jjj.items()'\n",
    "# This method returns a view of the key-value pairs and prints them as tuples\n",
    "print(jjj.items())\n",
    "# Output: [('jan', 100), ('chuck', 1), ('fred', 42)]\n"
   ]
  },
  {
   "cell_type": "markdown",
   "id": "abf3fd7a",
   "metadata": {},
   "source": [
    "#  Two Iteration Variables!"
   ]
  },
  {
   "cell_type": "code",
   "execution_count": 14,
   "id": "639030ca",
   "metadata": {},
   "outputs": [
    {
     "name": "stdout",
     "output_type": "stream",
     "text": [
      "chuck 1\n",
      "fred 42\n",
      "jan 100\n"
     ]
    }
   ],
   "source": [
    "# Create a dictionary 'jjj' with key-value pairs\n",
    "jjj = {'chuck': 1, 'fred': 42, 'jan': 100}\n",
    "\n",
    "# Iterate through the key-value pairs (items) of the 'jjj' dictionary using a for loop\n",
    "for aaa, bbb in jjj.items():\n",
    "    # Print the current key ('aaa') and its corresponding value ('bbb')\n",
    "    print(aaa, bbb)\n"
   ]
  },
  {
   "cell_type": "markdown",
   "id": "efdf4079",
   "metadata": {},
   "source": [
    "# COUNT WORDS"
   ]
  },
  {
   "cell_type": "code",
   "execution_count": null,
   "id": "53115ae9",
   "metadata": {},
   "outputs": [],
   "source": [
    "# Prompt the user to enter a file name and store it in the 'name' variable\n",
    "name = input('Enter file :')\n",
    "\n",
    "# Open the file with the specified name and create a file handle\n",
    "handle = read(name)\n",
    "\n",
    "# Create an empty dictionary 'counts' to store word counts\n",
    "counts = dict()\n",
    "\n",
    "# Iterate through each line in the file using a for loop\n",
    "for line in handle:\n",
    "    # Split the current line into words using the 'split()' method\n",
    "    words = line.split()\n",
    "    \n",
    "    # Iterate through each word in the 'words' list\n",
    "    for word in words:\n",
    "        # Use the 'get()' method to retrieve the current count for 'word' from 'counts'\n",
    "        # If 'word' is not present, it defaults to 0; then add 1 to it\n",
    "        counts[word] = counts.get(word, 0) + 1\n",
    "\n",
    "# Initialize variables to find the word with the highest count\n",
    "bigcount = None\n",
    "bigword = None\n",
    "\n",
    "# Iterate through the key-value pairs (items) in the 'counts' dictionary\n",
    "for word, count in counts.items():\n",
    "    # Check if 'bigcount' is None or if the current 'count' is greater than 'bigcount'\n",
    "    if bigcount is None or count > bigcount:\n",
    "        # Update 'bigword' and 'bigcount' with the current word and count\n",
    "        bigword = word\n",
    "        bigcount = count\n",
    "\n",
    "# Print the word with the highest count ('bigword') and its count ('bigcount')\n",
    "print(bigword, bigcount)\n",
    " "
   ]
  },
  {
   "cell_type": "code",
   "execution_count": null,
   "id": "6b78e382",
   "metadata": {},
   "outputs": [],
   "source": []
  },
  {
   "cell_type": "code",
   "execution_count": null,
   "id": "f73a42e0",
   "metadata": {},
   "outputs": [],
   "source": []
  }
 ],
 "metadata": {
  "kernelspec": {
   "display_name": "Python 3 (ipykernel)",
   "language": "python",
   "name": "python3"
  },
  "language_info": {
   "codemirror_mode": {
    "name": "ipython",
    "version": 3
   },
   "file_extension": ".py",
   "mimetype": "text/x-python",
   "name": "python",
   "nbconvert_exporter": "python",
   "pygments_lexer": "ipython3",
   "version": "3.10.9"
  }
 },
 "nbformat": 4,
 "nbformat_minor": 5
}
