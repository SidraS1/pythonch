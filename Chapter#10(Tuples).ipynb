{
 "cells": [
  {
   "cell_type": "markdown",
   "id": "9d80c848",
   "metadata": {},
   "source": [
    "#  Tuples Are Like Lists"
   ]
  },
  {
   "cell_type": "code",
   "execution_count": 1,
   "id": "cb489b69",
   "metadata": {},
   "outputs": [
    {
     "name": "stdout",
     "output_type": "stream",
     "text": [
      "(1, 9, 2)\n",
      "9\n",
      "1\n",
      "9\n",
      "2\n"
     ]
    }
   ],
   "source": [
    "# Define a tuple named y\n",
    "y = (1, 9, 2)\n",
    "\n",
    "# Print the entire tuple\n",
    "print(y)\n",
    "\n",
    "# Find and print the maximum value in the tuple\n",
    "print(max(y))\n",
    "\n",
    "# Iterate over the elements in the tuple and print them with comments\n",
    "for iter in y:\n",
    "    print(iter)  # Print the current element of the tuple\n"
   ]
  },
  {
   "cell_type": "markdown",
   "id": "972402da",
   "metadata": {},
   "source": [
    "# A Tale of Two Sequences"
   ]
  },
  {
   "cell_type": "code",
   "execution_count": 2,
   "id": "d685827c",
   "metadata": {},
   "outputs": [
    {
     "data": {
      "text/plain": [
       "['__add__',\n",
       " '__class__',\n",
       " '__class_getitem__',\n",
       " '__contains__',\n",
       " '__delattr__',\n",
       " '__delitem__',\n",
       " '__dir__',\n",
       " '__doc__',\n",
       " '__eq__',\n",
       " '__format__',\n",
       " '__ge__',\n",
       " '__getattribute__',\n",
       " '__getitem__',\n",
       " '__gt__',\n",
       " '__hash__',\n",
       " '__iadd__',\n",
       " '__imul__',\n",
       " '__init__',\n",
       " '__init_subclass__',\n",
       " '__iter__',\n",
       " '__le__',\n",
       " '__len__',\n",
       " '__lt__',\n",
       " '__mul__',\n",
       " '__ne__',\n",
       " '__new__',\n",
       " '__reduce__',\n",
       " '__reduce_ex__',\n",
       " '__repr__',\n",
       " '__reversed__',\n",
       " '__rmul__',\n",
       " '__setattr__',\n",
       " '__setitem__',\n",
       " '__sizeof__',\n",
       " '__str__',\n",
       " '__subclasshook__',\n",
       " 'append',\n",
       " 'clear',\n",
       " 'copy',\n",
       " 'count',\n",
       " 'extend',\n",
       " 'index',\n",
       " 'insert',\n",
       " 'pop',\n",
       " 'remove',\n",
       " 'reverse',\n",
       " 'sort']"
      ]
     },
     "execution_count": 2,
     "metadata": {},
     "output_type": "execute_result"
    }
   ],
   "source": [
    "l = list()\n",
    ">>> dir(l)\n"
   ]
  },
  {
   "cell_type": "code",
   "execution_count": 3,
   "id": "8b4da1f8",
   "metadata": {},
   "outputs": [
    {
     "data": {
      "text/plain": [
       "['__add__',\n",
       " '__class__',\n",
       " '__class_getitem__',\n",
       " '__contains__',\n",
       " '__delattr__',\n",
       " '__dir__',\n",
       " '__doc__',\n",
       " '__eq__',\n",
       " '__format__',\n",
       " '__ge__',\n",
       " '__getattribute__',\n",
       " '__getitem__',\n",
       " '__getnewargs__',\n",
       " '__gt__',\n",
       " '__hash__',\n",
       " '__init__',\n",
       " '__init_subclass__',\n",
       " '__iter__',\n",
       " '__le__',\n",
       " '__len__',\n",
       " '__lt__',\n",
       " '__mul__',\n",
       " '__ne__',\n",
       " '__new__',\n",
       " '__reduce__',\n",
       " '__reduce_ex__',\n",
       " '__repr__',\n",
       " '__rmul__',\n",
       " '__setattr__',\n",
       " '__sizeof__',\n",
       " '__str__',\n",
       " '__subclasshook__',\n",
       " 'count',\n",
       " 'index']"
      ]
     },
     "execution_count": 3,
     "metadata": {},
     "output_type": "execute_result"
    }
   ],
   "source": [
    " t = tuple()\n",
    ">>> dir(t)"
   ]
  },
  {
   "cell_type": "markdown",
   "id": "81bfe022",
   "metadata": {},
   "source": [
    "#  Tuples and Assignment"
   ]
  },
  {
   "cell_type": "code",
   "execution_count": 4,
   "id": "bf881a4f",
   "metadata": {},
   "outputs": [
    {
     "name": "stdout",
     "output_type": "stream",
     "text": [
      "fred\n",
      "99\n"
     ]
    }
   ],
   "source": [
    "# Assign values to variables x and y using tuple unpacking\n",
    "(x, y) = (4, 'fred')\n",
    "\n",
    "# Print the value of variable y\n",
    "print(y)\n",
    "# Assign values to variables a and b using tuple unpacking\n",
    "(a, b) = (99, 98)\n",
    "\n",
    "# Print the value of variable a\n",
    "print(a)\n"
   ]
  },
  {
   "cell_type": "markdown",
   "id": "2fbfd1a4",
   "metadata": {},
   "source": [
    "# Tuples and Dictionaries"
   ]
  },
  {
   "cell_type": "code",
   "execution_count": 5,
   "id": "7e62b993",
   "metadata": {},
   "outputs": [
    {
     "name": "stdout",
     "output_type": "stream",
     "text": [
      "csev 2\n",
      "cwen 4\n"
     ]
    }
   ],
   "source": [
    "# Create an empty dictionary named 'd'\n",
    "d = dict()\n",
    "\n",
    "# Add key-value pairs to the dictionary\n",
    "d['csev'] = 2\n",
    "d['cwen'] = 4\n",
    "\n",
    "# Iterate over the key-value pairs in the dictionary using the items() method\n",
    "for (k, v) in d.items():\n",
    "    # Print the key and its corresponding value\n",
    "    print(k, v)\n"
   ]
  },
  {
   "cell_type": "code",
   "execution_count": 6,
   "id": "953cf695",
   "metadata": {},
   "outputs": [
    {
     "name": "stdout",
     "output_type": "stream",
     "text": [
      "dict_items([('apple', 3), ('banana', 2), ('cherry', 5)])\n"
     ]
    }
   ],
   "source": [
    "# Create a dictionary\n",
    "d = {'apple': 3, 'banana': 2, 'cherry': 5}\n",
    "\n",
    "# Use the items() method to get a list of key-value pairs (tuples) from the dictionary\n",
    "tups = d.items()\n",
    "\n",
    "# Print the list of tuples\n",
    "print(tups)\n"
   ]
  },
  {
   "cell_type": "markdown",
   "id": "357fb876",
   "metadata": {},
   "source": [
    "# Tuples are comparable"
   ]
  },
  {
   "cell_type": "code",
   "execution_count": 7,
   "id": "3bfe97e1",
   "metadata": {},
   "outputs": [
    {
     "name": "stdout",
     "output_type": "stream",
     "text": [
      "True\n",
      "True\n",
      "True\n",
      "True\n"
     ]
    }
   ],
   "source": [
    "# Comparison 1: Element-wise comparison of two tuples of numbers\n",
    "result1 = (0, 1, 2) < (5, 1, 2)\n",
    "print(result1)  # True\n",
    "\n",
    "# Comparison 2: Element-wise comparison of two tuples of numbers\n",
    "result2 = (0, 1, 2000000) < (0, 3, 4)\n",
    "print(result2)  # True\n",
    "\n",
    "# Comparison 3: Lexicographic comparison of two tuples of strings\n",
    "result3 = ('Jones', 'Sally') < ('Jones', 'Sam')\n",
    "print(result3)  # True\n",
    "\n",
    "# Comparison 4: Lexicographic comparison of two tuples of strings\n",
    "result4 = ('Jones', 'Sally') > ('Adams', 'Sam')\n",
    "print(result4)  # True\n"
   ]
  },
  {
   "cell_type": "markdown",
   "id": "a8355037",
   "metadata": {},
   "source": [
    "#  Sorted list of tuples"
   ]
  },
  {
   "cell_type": "code",
   "execution_count": 8,
   "id": "c2df168d",
   "metadata": {},
   "outputs": [
    {
     "name": "stdout",
     "output_type": "stream",
     "text": [
      "a 10\n",
      "b 1\n",
      "c 22\n"
     ]
    }
   ],
   "source": [
    "# Create a dictionary 'd' with some key-value pairs\n",
    "d = {'a': 10, 'b': 1, 'c': 22}\n",
    "\n",
    "# Sort the items of the dictionary by key and store them in 't' (list of tuples)\n",
    "t = sorted(d.items())\n",
    "\n",
    "# Iterate through the sorted items and print each key-value pair\n",
    "for k, v in t:\n",
    "    print(k, v)  # Print the key and value of the current item\n"
   ]
  },
  {
   "cell_type": "markdown",
   "id": "2d1b107f",
   "metadata": {},
   "source": [
    "# Sort by Values Instead of Key"
   ]
  },
  {
   "cell_type": "code",
   "execution_count": 9,
   "id": "20f5da1f",
   "metadata": {},
   "outputs": [
    {
     "name": "stdout",
     "output_type": "stream",
     "text": [
      "[(10, 'a'), (1, 'b'), (22, 'c')]\n",
      "[(22, 'c'), (10, 'a'), (1, 'b')]\n"
     ]
    }
   ],
   "source": [
    "# Create a dictionary 'c' with some key-value pairs\n",
    "c = {'a': 10, 'b': 1, 'c': 22}\n",
    "\n",
    "# Initialize an empty list 'tmp' to store the tuples\n",
    "tmp = list()\n",
    "\n",
    "# Iterate through the items of the dictionary 'c'\n",
    "for k, v in c.items():\n",
    "    # Append a tuple with value and key reversed to 'tmp'\n",
    "    tmp.append((v, k))\n",
    "\n",
    "# Print the list of tuples before sorting\n",
    "print(tmp)\n",
    "\n",
    "# Sort the list 'tmp' in reverse order based on the values\n",
    "tmp = sorted(tmp, reverse=True)\n",
    "\n",
    "# Print the sorted list of tuples with comments\n",
    "print(tmp)  # Print the sorted list of tuples (value, key) in reverse order\n"
   ]
  },
  {
   "cell_type": "markdown",
   "id": "89ebe3e9",
   "metadata": {},
   "source": [
    "#  Even Shorter Version"
   ]
  },
  {
   "cell_type": "code",
   "execution_count": 10,
   "id": "b80392c8",
   "metadata": {},
   "outputs": [
    {
     "name": "stdout",
     "output_type": "stream",
     "text": [
      "[(1, 'b'), (10, 'a'), (22, 'c')]\n"
     ]
    }
   ],
   "source": [
    "# Create a dictionary 'c' with some key-value pairs\n",
    "c = {'a': 10, 'b': 1, 'c': 22}\n",
    "\n",
    "# Use a list comprehension to create a list of tuples (value, key) from the items of the dictionary 'c'\n",
    "# This swaps the positions of keys and values in the original dictionary\n",
    "tuple_list = [(v, k) for k, v in c.items()]\n",
    "\n",
    "# Sort the list of tuples in ascending order based on the first element of each tuple (which is the values)\n",
    "sorted_list = sorted(tuple_list)\n",
    "\n",
    "# Print the sorted list of tuples\n",
    "print(sorted_list)\n"
   ]
  },
  {
   "cell_type": "code",
   "execution_count": null,
   "id": "9f668e3d",
   "metadata": {},
   "outputs": [],
   "source": []
  }
 ],
 "metadata": {
  "kernelspec": {
   "display_name": "Python 3 (ipykernel)",
   "language": "python",
   "name": "python3"
  },
  "language_info": {
   "codemirror_mode": {
    "name": "ipython",
    "version": 3
   },
   "file_extension": ".py",
   "mimetype": "text/x-python",
   "name": "python",
   "nbconvert_exporter": "python",
   "pygments_lexer": "ipython3",
   "version": "3.10.9"
  }
 },
 "nbformat": 4,
 "nbformat_minor": 5
}
