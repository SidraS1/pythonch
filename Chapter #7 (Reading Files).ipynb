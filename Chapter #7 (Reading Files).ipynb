{
 "cells": [
  {
   "cell_type": "markdown",
   "id": "531b0ab8",
   "metadata": {},
   "source": [
    "# The newline Character"
   ]
  },
  {
   "cell_type": "code",
   "execution_count": 1,
   "id": "0bf642fe",
   "metadata": {},
   "outputs": [
    {
     "name": "stdout",
     "output_type": "stream",
     "text": [
      "Hello\n",
      "World!\n",
      "X\n",
      "Y\n"
     ]
    }
   ],
   "source": [
    "# Define a string variable 'stuff' containing the text 'Hello\\nWorld!'\n",
    "stuff = 'Hello\\nWorld!'\n",
    "\n",
    "# The variable 'stuff' now holds the string 'Hello\\nWorld!'\n",
    "# The '\\n' is an escape sequence representing a newline character.\n",
    "# It doesn't display as a literal backslash followed by 'n' in the output.\n",
    "\n",
    "# When you print 'stuff', it displays with a newline character, which results in two lines.\n",
    "print(stuff)\n",
    "# Output:\n",
    "# Hello\n",
    "# World!\n",
    "\n",
    "# Now, reassign the variable 'stuff' to 'X\\nY'.\n",
    "stuff = 'X\\nY'\n",
    "\n",
    "# The variable 'stuff' now holds the string 'X\\nY'.\n",
    "# Again, the '\\n' represents a newline character.\n",
    "\n",
    "# When you print 'stuff', it displays with a newline character, creating two lines.\n",
    "print(stuff)\n",
    "# Output:\n",
    "# X\n",
    "# Y\n",
    "\n",
    "# Calculate the length of the string in the variable 'stuff'.\n",
    "# The string 'X\\nY' contains three characters: 'X', '\\n', and 'Y'.\n",
    "length = len(stuff)\n",
    "\n",
    "# 'length' now holds the value 3.\n"
   ]
  },
  {
   "cell_type": "markdown",
   "id": "c0114e85",
   "metadata": {},
   "source": [
    "# File Handle as a Sequence"
   ]
  },
  {
   "cell_type": "code",
   "execution_count": null,
   "id": "1f3a736d",
   "metadata": {},
   "outputs": [],
   "source": [
    "\n",
    "# Open the file 'mbox.txt' in default read mode ('r')\n",
    "xfile = open('.txt')\n",
    "\n",
    "# Iterate through each line in the file\n",
    "for cheese in xfile:\n",
    "    # Print each line from the file\n",
    "    print(cheese)\n",
    "\n",
    "# Close the file when you're done with it (not shown in your code, but it's a good practice)\n",
    "xfile.close()"
   ]
  },
  {
   "cell_type": "markdown",
   "id": "b6c1ff29",
   "metadata": {},
   "source": [
    "# Counting Lines in a File"
   ]
  },
  {
   "cell_type": "code",
   "execution_count": null,
   "id": "2edf170d",
   "metadata": {},
   "outputs": [],
   "source": [
    "# Open the file 'mbox.txt' in default read mode ('r')\n",
    "fhand = open('mbox.txt')\n",
    "\n",
    "# Initialize a variable 'count' to keep track of the number of lines in the file\n",
    "count = 0\n",
    "\n",
    "# Iterate through each line in the file\n",
    "for line in fhand:\n",
    "    # Increment the 'count' variable by 1 for each line encountered\n",
    "    count = count + 1\n",
    "\n",
    "# After the loop is finished (all lines have been processed), print the total line count\n",
    "print('Line Count:', count)\n",
    "\n",
    "# Close the file when you're done with it (not shown in your code, but it's a good practice)\n",
    "fhand.close()\n"
   ]
  },
  {
   "cell_type": "markdown",
   "id": "f499abaf",
   "metadata": {},
   "source": [
    "# Reading the *Whole* File"
   ]
  },
  {
   "cell_type": "code",
   "execution_count": null,
   "id": "d3d17e4c",
   "metadata": {},
   "outputs": [],
   "source": [
    ">>> fhand = open('mbox-short.txt')\n",
    ">>> inp = fhand.read()\n",
    ">>> print(len(inp))\n",
    "94626\n",
    ">>> print(inp[:20])\n",
    "From stephen.marquar\n"
   ]
  },
  {
   "cell_type": "markdown",
   "id": "fabb27ec",
   "metadata": {},
   "source": [
    "# Searching Through a File"
   ]
  },
  {
   "cell_type": "code",
   "execution_count": null,
   "id": "ed405cd3",
   "metadata": {},
   "outputs": [],
   "source": [
    "# Open the file 'mbox-short.txt' in default read mode ('r')\n",
    "fhand = open('mbox-short.txt')\n",
    "\n",
    "# Iterate through each line in the file\n",
    "for line in fhand:\n",
    "    # Check if the current line starts with 'From:'\n",
    "    if line.startswith('From:'):\n",
    "        # If it does, print the line\n",
    "        print(line)\n",
    "\n",
    "# Close the file when you're done with it (not shown in your code, but it's a good practice)\n",
    "fhand.close()\n"
   ]
  },
  {
   "cell_type": "markdown",
   "id": "957d90ab",
   "metadata": {},
   "source": [
    "# Searching Through a File (fixed)"
   ]
  },
  {
   "cell_type": "code",
   "execution_count": null,
   "id": "688971c4",
   "metadata": {},
   "outputs": [],
   "source": [
    "# Open the file 'mbox-short.txt' in default read mode ('r')\n",
    "fhand = open('mbox-short.txt')\n",
    "\n",
    "# Iterate through each line in the file\n",
    "for line in fhand:\n",
    "    # Remove trailing whitespace (e.g., newline characters) from the line\n",
    "    line = line.rstrip()\n",
    "    \n",
    "    # Check if the current line starts with 'From:'\n",
    "    if line.startswith('From:'):\n",
    "        # If it does, print the line\n",
    "        print(line)\n",
    "\n",
    "# Close the file when you're done with it (not shown in your code, but it's a good practice)\n",
    "fhand.close()\n"
   ]
  },
  {
   "cell_type": "markdown",
   "id": "b0e4b05d",
   "metadata": {},
   "source": [
    "# Skipping with continue"
   ]
  },
  {
   "cell_type": "code",
   "execution_count": null,
   "id": "ffad1c10",
   "metadata": {},
   "outputs": [],
   "source": [
    "# Open the file 'mbox-short.txt' in default read mode ('r')\n",
    "fhand = open('mbox-short.txt')\n",
    "\n",
    "# Iterate through each line in the file\n",
    "for line in fhand:\n",
    "    # Remove trailing whitespace (e.g., newline characters) from the line\n",
    "    line = line.rstrip()\n",
    "    \n",
    "    # Check if the current line does NOT start with 'From:'\n",
    "    if not line.startswith('From:'):\n",
    "        # If it does not start with 'From:', skip to the next iteration of the loop\n",
    "        continue\n",
    "    \n",
    "    # If the line starts with 'From:', print the line\n",
    "    print(line)\n",
    "\n",
    "# Close the file when you're done with it (not shown in your code, but it's a good practice)\n",
    "fhand.close()\n"
   ]
  },
  {
   "cell_type": "markdown",
   "id": "8b5520aa",
   "metadata": {},
   "source": [
    "# Using in to Select Lines"
   ]
  },
  {
   "cell_type": "code",
   "execution_count": null,
   "id": "93c1c47d",
   "metadata": {},
   "outputs": [],
   "source": [
    "# Open the file 'mbox-short.txt' in default read mode ('r')\n",
    "fhand = open('mbox-short.txt')\n",
    "\n",
    "# Iterate through each line in the file\n",
    "for line in fhand:\n",
    "    # Remove trailing whitespace (e.g., newline characters) from the line\n",
    "    line = line.rstrip()\n",
    "    \n",
    "    # Check if the line does NOT contain the substring '@uct.ac.za'\n",
    "    if not '@uct.ac.za' in line:\n",
    "        # If '@uct.ac.za' is not found in the line, skip to the next iteration of the loop\n",
    "        continue\n",
    "    \n",
    "    # If the line contains the substring '@uct.ac.za', print the line\n",
    "    print(line)\n",
    "\n",
    "# Close the file when you're done with it (not shown in your code, but it's a good practice)\n",
    "fhand.close()\n"
   ]
  },
  {
   "cell_type": "markdown",
   "id": "1ab2726c",
   "metadata": {},
   "source": [
    "# Prompt for File Name"
   ]
  },
  {
   "cell_type": "code",
   "execution_count": null,
   "id": "0440550b",
   "metadata": {},
   "outputs": [],
   "source": [
    "# Prompt the user to enter a file name and store the input in the variable 'fname'\n",
    "fname = input('Enter the file name: ')\n",
    "\n",
    "# Open the file specified by the user in read mode ('r')\n",
    "fhand = open(fname)\n",
    "\n",
    "# Initialize a variable 'count' to keep track of the number of lines starting with 'Subject:'\n",
    "count = 0\n",
    "\n",
    "# Iterate through each line in the file\n",
    "for line in fhand:\n",
    "    # Check if the current line starts with 'Subject:'\n",
    "    if line.startswith('Subject:'):\n",
    "        # If it does, increment the 'count' variable by 1\n",
    "        count = count + 1\n",
    "\n",
    "# After the loop is finished (all lines have been processed), print the count and the file name\n",
    "print('There were', count, 'subject lines in', fname)\n",
    "\n",
    "# Close the file when you're done with it (not shown in your code, but it's a good practice)\n",
    "fhand.close()\n"
   ]
  }
 ],
 "metadata": {
  "kernelspec": {
   "display_name": "Python 3 (ipykernel)",
   "language": "python",
   "name": "python3"
  },
  "language_info": {
   "codemirror_mode": {
    "name": "ipython",
    "version": 3
   },
   "file_extension": ".py",
   "mimetype": "text/x-python",
   "name": "python",
   "nbconvert_exporter": "python",
   "pygments_lexer": "ipython3",
   "version": "3.10.9"
  }
 },
 "nbformat": 4,
 "nbformat_minor": 5
}
